{
 "cells": [
  {
   "cell_type": "code",
   "execution_count": 1,
   "id": "81c533c2",
   "metadata": {},
   "outputs": [
    {
     "name": "stderr",
     "output_type": "stream",
     "text": [
      "C:\\Users\\adamm\\AppData\\Local\\Programs\\Python\\Python310\\lib\\site-packages\\tqdm\\auto.py:22: TqdmWarning: IProgress not found. Please update jupyter and ipywidgets. See https://ipywidgets.readthedocs.io/en/stable/user_install.html\n",
      "  from .autonotebook import tqdm as notebook_tqdm\n"
     ]
    }
   ],
   "source": [
    "import torch\n",
    "import torch.nn.functional as F\n",
    "import matplotlib.pyplot as plt # for making figures\n",
    "%matplotlib inline"
   ]
  },
  {
   "cell_type": "code",
   "execution_count": 2,
   "id": "eb1af2b7",
   "metadata": {},
   "outputs": [
    {
     "data": {
      "text/plain": [
       "['emma', 'olivia', 'ava', 'isabella', 'sophia', 'charlotte', 'mia', 'amelia']"
      ]
     },
     "execution_count": 2,
     "metadata": {},
     "output_type": "execute_result"
    }
   ],
   "source": [
    "words = open('names.txt', 'r').read().splitlines()\n",
    "words[:8]"
   ]
  },
  {
   "cell_type": "code",
   "execution_count": 8,
   "id": "a2956b6b",
   "metadata": {},
   "outputs": [
    {
     "name": "stdout",
     "output_type": "stream",
     "text": [
      "{1: 'a', 2: 'b', 3: 'c', 4: 'd', 5: 'e', 6: 'f', 7: 'g', 8: 'h', 9: 'i', 10: 'j', 11: 'k', 12: 'l', 13: 'm', 14: 'n', 15: 'o', 16: 'p', 17: 'q', 18: 'r', 19: 's', 20: 't', 21: 'u', 22: 'v', 23: 'w', 24: 'x', 25: 'y', 26: 'z', 0: '.'}\n",
      "27\n"
     ]
    }
   ],
   "source": [
    "# build the vocabulary of characters and mappings to/from integers\n",
    "chars = sorted(list(set(''.join(words))))\n",
    "stoi = {s:i+1 for i,s in enumerate(chars)}\n",
    "stoi['.'] = 0\n",
    "itos = {i:s for s,i in stoi.items()}\n",
    "vocab_size = len(itos)\n",
    "print(itos)\n",
    "print(vocab_size)"
   ]
  },
  {
   "cell_type": "code",
   "execution_count": 107,
   "id": "65fae92b",
   "metadata": {},
   "outputs": [
    {
     "name": "stdout",
     "output_type": "stream",
     "text": [
      "torch.Size([182512, 3]) torch.Size([182512])\n",
      "torch.Size([22860, 3]) torch.Size([22860])\n",
      "torch.Size([22774, 3]) torch.Size([22774])\n"
     ]
    }
   ],
   "source": [
    "block_size = 3\n",
    "def build_dataset(words):  \n",
    "    X, Y = [], []\n",
    "    for w in words:\n",
    "        #print(w)\n",
    "        context = [0] * block_size\n",
    "        for ch in w + '.':\n",
    "            ix = stoi[ch]\n",
    "            X.append(context)\n",
    "            Y.append(ix)\n",
    "            #print(''.join(itos[i] for i in context), '--->', itos[ix])\n",
    "            context = context[1:] + [ix] # crop and append\n",
    "\n",
    "    X = torch.tensor(X)\n",
    "    Y = torch.tensor(Y)\n",
    "    print(X.shape, Y.shape)\n",
    "    return X, Y\n",
    "\n",
    "import random\n",
    "random.seed(42)\n",
    "random.shuffle(words)\n",
    "n1 = int(0.8*len(words))\n",
    "n2 = int(0.9*len(words))\n",
    "\n",
    "Xtr, Ytr = build_dataset(words[:n1])\n",
    "Xdev, Ydev = build_dataset(words[n1:n2])\n",
    "Xte, Yte = build_dataset(words[n2:])"
   ]
  },
  {
   "cell_type": "code",
   "execution_count": 152,
   "id": "649fea2f",
   "metadata": {},
   "outputs": [
    {
     "name": "stdout",
     "output_type": "stream",
     "text": [
      "11697\n"
     ]
    }
   ],
   "source": [
    "# MLP revisited\n",
    "n_embd = 2 # the dimensionality of the character embedding vectors\n",
    "n_hidden = 200 # the number of neurons in the hidden layer of the MLP\n",
    "\n",
    "g = torch.Generator().manual_seed(2147483647) # for reproducibility\n",
    "C  = torch.randn((vocab_size, n_embd),            generator=g)\n",
    "W1 = torch.randn((n_embd * block_size, n_hidden), generator=g) * 5/3 * 1/(n_embd * block_size)**0.5\n",
    "# b1 = torch.randn(n_hidden,                        generator=g) * 0.01\n",
    "W2 = torch.randn((n_hidden, vocab_size),          generator=g) * 0.01\n",
    "b2 = torch.randn(vocab_size,                      generator=g) * 0.\n",
    "\n",
    "bngain = torch.ones((1, n_hidden))\n",
    "bnbias = torch.zeros((1, n_hidden))\n",
    "\n",
    "bnmean_running = torch.zeros((1, n_hidden))\n",
    "bnstd_running = torch.ones((1, n_hidden))\n",
    "\n",
    "parameters = [C, W1, W2, b2, bngain, bnbias]\n",
    "print(sum(p.nelement() for p in parameters)) # number of parameters in total\n",
    "for p in parameters:\n",
    "    p.requires_grad = True"
   ]
  },
  {
   "cell_type": "code",
   "execution_count": 155,
   "id": "a26adfeb",
   "metadata": {},
   "outputs": [
    {
     "name": "stdout",
     "output_type": "stream",
     "text": [
      "      0/ 100000: 2.5133\n",
      "   1000/ 100000: 2.0784\n",
      "   2000/ 100000: 2.0103\n",
      "   3000/ 100000: 2.1512\n",
      "   4000/ 100000: 2.2069\n",
      "   5000/ 100000: 2.1391\n",
      "   6000/ 100000: 2.1970\n",
      "   7000/ 100000: 2.2012\n",
      "   8000/ 100000: 2.1635\n",
      "   9000/ 100000: 1.9457\n",
      "  10000/ 100000: 2.6081\n",
      "  11000/ 100000: 2.1996\n",
      "  12000/ 100000: 2.2106\n",
      "  13000/ 100000: 2.1477\n",
      "  14000/ 100000: 2.3670\n",
      "  15000/ 100000: 2.2677\n",
      "  16000/ 100000: 2.2410\n",
      "  17000/ 100000: 2.3291\n",
      "  18000/ 100000: 2.2905\n",
      "  19000/ 100000: 2.4142\n",
      "  20000/ 100000: 2.3250\n",
      "  21000/ 100000: 2.2346\n",
      "  22000/ 100000: 2.2480\n",
      "  23000/ 100000: 1.7928\n",
      "  24000/ 100000: 2.0835\n",
      "  25000/ 100000: 1.9336\n",
      "  26000/ 100000: 2.4075\n",
      "  27000/ 100000: 2.3886\n",
      "  28000/ 100000: 2.3260\n",
      "  29000/ 100000: 2.0987\n",
      "  30000/ 100000: 2.1465\n",
      "  31000/ 100000: 2.0463\n",
      "  32000/ 100000: 2.3627\n",
      "  33000/ 100000: 2.5858\n",
      "  34000/ 100000: 2.1417\n",
      "  35000/ 100000: 2.3152\n",
      "  36000/ 100000: 2.2908\n",
      "  37000/ 100000: 2.0687\n",
      "  38000/ 100000: 2.3146\n",
      "  39000/ 100000: 2.2423\n",
      "  40000/ 100000: 2.4228\n",
      "  41000/ 100000: 2.6562\n",
      "  42000/ 100000: 2.7282\n",
      "  43000/ 100000: 2.3380\n",
      "  44000/ 100000: 2.2746\n",
      "  45000/ 100000: 2.0867\n",
      "  46000/ 100000: 2.3902\n",
      "  47000/ 100000: 2.2297\n",
      "  48000/ 100000: 2.1839\n",
      "  49000/ 100000: 2.4478\n",
      "  50000/ 100000: 2.1568\n",
      "  51000/ 100000: 2.0336\n",
      "  52000/ 100000: 2.1426\n",
      "  53000/ 100000: 2.2830\n",
      "  54000/ 100000: 2.4287\n",
      "  55000/ 100000: 2.1201\n",
      "  56000/ 100000: 2.2381\n",
      "  57000/ 100000: 1.7665\n",
      "  58000/ 100000: 1.9318\n",
      "  59000/ 100000: 1.7714\n",
      "  60000/ 100000: 1.8997\n",
      "  61000/ 100000: 2.3665\n",
      "  62000/ 100000: 2.2411\n",
      "  63000/ 100000: 2.1543\n",
      "  64000/ 100000: 1.8963\n",
      "  65000/ 100000: 2.2676\n",
      "  66000/ 100000: 2.1987\n",
      "  67000/ 100000: 2.2789\n",
      "  68000/ 100000: 2.0543\n",
      "  69000/ 100000: 2.2346\n",
      "  70000/ 100000: 2.2256\n",
      "  71000/ 100000: 2.0617\n",
      "  72000/ 100000: 1.9925\n",
      "  73000/ 100000: 2.6519\n",
      "  74000/ 100000: 1.9217\n",
      "  75000/ 100000: 1.7466\n",
      "  76000/ 100000: 2.2399\n",
      "  77000/ 100000: 2.3472\n",
      "  78000/ 100000: 1.9821\n",
      "  79000/ 100000: 2.4235\n",
      "  80000/ 100000: 2.1892\n",
      "  81000/ 100000: 2.5470\n",
      "  82000/ 100000: 2.5576\n",
      "  83000/ 100000: 2.3808\n",
      "  84000/ 100000: 2.4556\n",
      "  85000/ 100000: 2.0854\n",
      "  86000/ 100000: 1.9660\n",
      "  87000/ 100000: 1.9867\n",
      "  88000/ 100000: 1.8866\n",
      "  89000/ 100000: 1.9275\n",
      "  90000/ 100000: 1.7631\n",
      "  91000/ 100000: 1.9026\n",
      "  92000/ 100000: 2.2705\n",
      "  93000/ 100000: 2.2766\n",
      "  94000/ 100000: 1.8525\n",
      "  95000/ 100000: 2.2691\n",
      "  96000/ 100000: 2.1302\n",
      "  97000/ 100000: 2.2863\n",
      "  98000/ 100000: 2.2637\n",
      "  99000/ 100000: 2.4893\n"
     ]
    }
   ],
   "source": [
    "# same optimization as last time\n",
    "max_steps = 100000\n",
    "batch_size = 32\n",
    "lossi = []\n",
    "\n",
    "epsilon = 1e-5\n",
    "\n",
    "for i in range(max_steps):\n",
    "\n",
    "    # minibatch construct\n",
    "    ix = torch.randint(0, Xtr.shape[0], (batch_size,), generator=g)\n",
    "    Xb, Yb = Xtr[ix], Ytr[ix] # batch X,Y\n",
    "\n",
    "    # forward pass\n",
    "    emb = C[Xb] # embed the characters into vectors\n",
    "    embcat = emb.view(emb.shape[0], -1) # concatenate the vectors\n",
    "    hpreact = embcat @ W1 #+ b1 # hidden layer pre-activation, biases pointless when batch norm because of bnbias\n",
    "    # batch norm layer\n",
    "    # --------------------------------------------------------------------------------\n",
    "    epsilon = 10e-7\n",
    "    bnmeani = hpreact.mean(0, keepdim=True)\n",
    "    bnstdi = hpreact.std(0, keepdim=True)\n",
    "    hpreact = bngain * (hpreact - bnmeani) / (bnstdi + epsilon) + bnbias # epsilon to stop /0\n",
    "\n",
    "    with torch.no_grad(): # not suing these for backprop only for train in the end so no need to make a differentition graph \n",
    "        bnmean_running = 0.999 * bnmean_running + (1-0.999) * bnmeani # soft update\n",
    "        bnstd_running = 0.999 * bnstd_running + (1-0.999) * bnstdi # soft update\n",
    "    # --------------------------------------------------------------------------------    \n",
    "    h = torch.tanh(hpreact) # hidden layer\n",
    "    logits = h @ W2 + b2 # output layer\n",
    "    loss = F.cross_entropy(logits, Yb) # loss function\n",
    "\n",
    "    # backward pass\n",
    "    for p in parameters:\n",
    "        p.grad = None\n",
    "    loss.backward()\n",
    "\n",
    "    # update\n",
    "    lr = 0.1 if i < 100000 else 0.01 # step learning rate decay\n",
    "    for p in parameters:\n",
    "        p.data += -lr * p.grad\n",
    "\n",
    "    # track stats\n",
    "    if i % 1000 == 0: # print every once in a while\n",
    "        print(f'{i:7d}/{max_steps:7d}: {loss.item():.4f}')\n",
    "    lossi.append(loss.log10().item())"
   ]
  },
  {
   "cell_type": "markdown",
   "id": "6719a0d0",
   "metadata": {},
   "source": [
    "## Initialization"
   ]
  },
  {
   "cell_type": "code",
   "execution_count": 133,
   "id": "b4ffa900",
   "metadata": {},
   "outputs": [
    {
     "name": "stdout",
     "output_type": "stream",
     "text": [
      "tensor(3.2958)\n",
      "tensor(9.8790)\n",
      "tensor(1.6233)\n",
      "tensor(1.3875)\n",
      "tensor(1.3863)\n"
     ]
    }
   ],
   "source": [
    "# loss expected at initilasation: flat priors for the characters 1/27 \n",
    "exp_loss = -torch.tensor(1/27).log()\n",
    "print(exp_loss)\n",
    "# need logits to be all ~equal and small so that the nll is low to avoid fake confidence in incorrect answers such as:\n",
    "factors = [10, 1, 0.1, 0] \n",
    "for factor in factors:\n",
    "    logits = torch.randn(4) * factor\n",
    "    probs = torch.softmax(logits, dim=0)\n",
    "    nll = -torch.log(probs).mean()\n",
    "    print(nll)\n"
   ]
  },
  {
   "cell_type": "markdown",
   "id": "1ad441a0",
   "metadata": {},
   "source": [
    "## Look At The tanh Layer"
   ]
  },
  {
   "cell_type": "code",
   "execution_count": 134,
   "id": "ccc34029",
   "metadata": {},
   "outputs": [],
   "source": [
    "# the gradients of y = tanhx are ~0 for large mod(x) which kills gradients flowing through the network. \n",
    "# the gradient flowing throgh tanh can only ever drecrease. "
   ]
  },
  {
   "cell_type": "code",
   "execution_count": 157,
   "id": "b148fad6",
   "metadata": {},
   "outputs": [
    {
     "data": {
      "text/plain": [
       "torch.Size([32, 200])"
      ]
     },
     "execution_count": 157,
     "metadata": {},
     "output_type": "execute_result"
    }
   ],
   "source": [
    "h.shape"
   ]
  },
  {
   "cell_type": "code",
   "execution_count": 135,
   "id": "ce4ec881",
   "metadata": {},
   "outputs": [
    {
     "data": {
      "image/png": "[encoded data removed]",
      "text/plain": [
       "<Figure size 640x480 with 1 Axes>"
      ]
     },
     "metadata": {},
     "output_type": "display_data"
    }
   ],
   "source": [
    "plt.hist(h.view(-1).tolist(), 50);"
   ]
  },
  {
   "cell_type": "code",
   "execution_count": 136,
   "id": "77cfe374",
   "metadata": {},
   "outputs": [
    {
     "data": {
      "image/png": "[encoded data removed]",
      "text/plain": [
       "<Figure size 640x480 with 1 Axes>"
      ]
     },
     "metadata": {},
     "output_type": "display_data"
    }
   ],
   "source": [
    "plt.hist(hpreact.view(-1).tolist(), 50);"
   ]
  },
  {
   "cell_type": "code",
   "execution_count": 137,
   "id": "2c6fde3b",
   "metadata": {},
   "outputs": [
    {
     "data": {
      "text/plain": [
       "<matplotlib.image.AxesImage at 0x25502301870>"
      ]
     },
     "execution_count": 137,
     "metadata": {},
     "output_type": "execute_result"
    },
    {
     "data": {
      "image/png": "[encoded data removed]",
      "text/plain": [
       "<Figure size 2000x1000 with 1 Axes>"
      ]
     },
     "metadata": {},
     "output_type": "display_data"
    }
   ],
   "source": [
    "plt.figure(figsize=(20,10))\n",
    "plt.imshow(h.abs()> 0.99, cmap='gray', interpolation='nearest')\n",
    "# an entire white column (1 of 200 neurons) shows that the neuron always kills the gradient for all of the examples\n",
    "# in the minibatch --> dead neuron."
   ]
  },
  {
   "cell_type": "markdown",
   "id": "9fc33946",
   "metadata": {},
   "source": [
    "# Kaiming Initiation "
   ]
  },
  {
   "cell_type": "code",
   "execution_count": 138,
   "id": "925497a9",
   "metadata": {},
   "outputs": [
    {
     "name": "stdout",
     "output_type": "stream",
     "text": [
      "tensor(-0.0069) tensor(0.9913)\n",
      "tensor(0.0009) tensor(0.9816)\n"
     ]
    },
    {
     "data": {
      "image/png": "[encoded data removed]",
      "text/plain": [
       "<Figure size 2000x500 with 2 Axes>"
      ]
     },
     "metadata": {},
     "output_type": "display_data"
    }
   ],
   "source": [
    "# fac = 1/sqrt(fan in) to maintain a normalised guassian or sqrt(2/fan in) for relu. sqrt(2) is refered to the gain. is 5/3 for tanh\n",
    "fac = 1/10**0.5\n",
    "x = torch.randn(1000, 10)\n",
    "w = torch.randn(10, 200) * fac # 200 neurons with input 10\n",
    "y = x @ w\n",
    "print(x.mean(), x.std())\n",
    "print(y.mean(), y.std())\n",
    "plt.figure(figsize=(20,5))\n",
    "plt.subplot(121)\n",
    "plt.hist(x.view(-1).tolist(), 50);\n",
    "plt.subplot(122)\n",
    "plt.hist(y.view(-1).tolist(), 50);"
   ]
  },
  {
   "cell_type": "markdown",
   "id": "f7d51bf8",
   "metadata": {},
   "source": [
    "## Batch Normalization"
   ]
  },
  {
   "cell_type": "code",
   "execution_count": 139,
   "id": "560e5412",
   "metadata": {},
   "outputs": [
    {
     "data": {
      "text/plain": [
       "(torch.Size([32, 200]), torch.Size([1, 200]), torch.Size([1, 200]))"
      ]
     },
     "execution_count": 139,
     "metadata": {},
     "output_type": "execute_result"
    }
   ],
   "source": [
    "# want to keep everything going to the tanh ~gaussain\n",
    "\n",
    "# bacth mean of each neurons activation \n",
    "batch_mean = hpreact.mean(dim=0, keepdim=True)\n",
    "batch_std = hpreact.std(dim=0, keepdim=True)\n",
    "hpreact.shape, batch_mean.shape, batch_std.shape\n",
    "\n",
    "# standardize over the batch but need to allow this guassian to shift the gussian in width and center \n",
    "# use a batch_norm gain and bias which will be trained for this\n",
    "\n",
    "# Calculating the batch norm couples all the examples in the batch which is a pain for regularization and is computationally \n",
    "# expensive. \n",
    "\n",
    "# The paper just actually calculates the batch norm over the full training set and uses this for evaluation and it doesnt work \n",
    "# too badly. They actually calcualte a running mean and use that.   \n",
    "\n"
   ]
  },
  {
   "cell_type": "code",
   "execution_count": 140,
   "id": "00623b16",
   "metadata": {},
   "outputs": [
    {
     "data": {
      "text/plain": [
       "[<matplotlib.lines.Line2D at 0x255023ad990>]"
      ]
     },
     "execution_count": 140,
     "metadata": {},
     "output_type": "execute_result"
    },
    {
     "data": {
      "image/png": "[encoded data removed]",
      "text/plain": [
       "<Figure size 640x480 with 1 Axes>"
      ]
     },
     "metadata": {},
     "output_type": "display_data"
    }
   ],
   "source": [
    "plt.plot(lossi)"
   ]
  },
  {
   "cell_type": "code",
   "execution_count": 154,
   "id": "5dd93e04",
   "metadata": {},
   "outputs": [
    {
     "name": "stdout",
     "output_type": "stream",
     "text": [
      "train 2.3496146202087402\n",
      "val 2.3603951930999756\n"
     ]
    }
   ],
   "source": [
    "@torch.no_grad() # this decorator disables gradient tracking\n",
    "def split_loss(split):\n",
    "    x,y = {\n",
    "    'train': (Xtr, Ytr),\n",
    "    'val': (Xdev, Ydev),\n",
    "    'test': (Xte, Yte),\n",
    "    }[split]\n",
    "    emb = C[x] # (N, block_size, n_embd)\n",
    "    embcat = emb.view(emb.shape[0], -1) # concat into (N, block_size * n_embd)\n",
    "    hpreact = embcat @ W1 + b1\n",
    "    hpreact = bngain * (hpreact - bnmean) / bnstd + bnbias\n",
    "    h = torch.tanh(hpreact) # (N, n_hidden)\n",
    "    logits = h @ W2 + b2 # (N, vocab_size)\n",
    "    loss = F.cross_entropy(logits, y)\n",
    "    print(split, loss.item())\n",
    "\n",
    "split_loss('train')\n",
    "split_loss('val')"
   ]
  },
  {
   "cell_type": "code",
   "execution_count": 113,
   "id": "b9dbcc36",
   "metadata": {},
   "outputs": [
    {
     "name": "stdout",
     "output_type": "stream",
     "text": [
      "carmahxani.\n",
      "havif.\n",
      "jario.\n",
      "taty.\n",
      "skandone.\n",
      "rahnil.\n",
      "delsaha.\n",
      "kaqui.\n",
      "nellana.\n",
      "chaiiv.\n",
      "kaleigh.\n",
      "ham.\n",
      "joie.\n",
      "quinton.\n",
      "lilea.\n",
      "jadel.\n",
      "waythonielrisi.\n",
      "jace.\n",
      "pilson.\n",
      "eddeli.\n"
     ]
    }
   ],
   "source": [
    "# sample from model \n",
    "g = torch.Generator().manual_seed(2147483647 + 10)\n",
    "for _ in range(20):\n",
    "    \n",
    "    out = []\n",
    "    context = [0] * block_size\n",
    "    while True:\n",
    "        emb = C[torch.tensor([context])] \n",
    "        h = torch.tanh(emb.view(1, -1) @ W1 + b1) # (N, n_hidden)\n",
    "        logits = h @ W2 + b2 # (N, vocab_size)\n",
    "        probs = F.softmax(logits, dim=1)\n",
    "        # sample from the distribution \n",
    "        ix = torch.multinomial(probs, num_samples=1, generator=g).item()\n",
    "        # shift context by taking the first off and adding the new one on:\n",
    "        context = context[1:] + [ix]\n",
    "        out.append(ix)\n",
    "        # if we sample a '.' stop the word\n",
    "        if ix == 0:\n",
    "            break \n",
    "            \n",
    "    print(''.join(itos[i] for i in out))"
   ]
  },
  {
   "cell_type": "code",
   "execution_count": null,
   "id": "e332b84a",
   "metadata": {},
   "outputs": [],
   "source": []
  }
 ],
 "metadata": {
  "kernelspec": {
   "display_name": "Python 3 (ipykernel)",
   "language": "python",
   "name": "python3"
  },
  "language_info": {
   "codemirror_mode": {
    "name": "ipython",
    "version": 3
   },
   "file_extension": ".py",
   "mimetype": "text/x-python",
   "name": "python",
   "nbconvert_exporter": "python",
   "pygments_lexer": "ipython3",
   "version": "3.10.6"
  }
 },
 "nbformat": 4,
 "nbformat_minor": 5
}
